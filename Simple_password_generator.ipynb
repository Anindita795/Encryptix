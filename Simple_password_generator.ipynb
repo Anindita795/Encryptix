{
  "nbformat": 4,
  "nbformat_minor": 0,
  "metadata": {
    "colab": {
      "provenance": [],
      "authorship_tag": "ABX9TyOyEDAI/VAUw16kuPMwfRO4",
      "include_colab_link": true
    },
    "kernelspec": {
      "name": "python3",
      "display_name": "Python 3"
    },
    "language_info": {
      "name": "python"
    }
  },
  "cells": [
    {
      "cell_type": "markdown",
      "metadata": {
        "id": "view-in-github",
        "colab_type": "text"
      },
      "source": [
        "<a href=\"https://colab.research.google.com/github/Anindita795/Encryptix/blob/main/Simple_password_generator.ipynb\" target=\"_parent\"><img src=\"https://colab.research.google.com/assets/colab-badge.svg\" alt=\"Open In Colab\"/></a>"
      ]
    },
    {
      "cell_type": "code",
      "execution_count": 6,
      "metadata": {
        "colab": {
          "base_uri": "https://localhost:8080/"
        },
        "id": "deeVsJlw4itZ",
        "outputId": "eeefe8e6-38af-48f4-e498-4643e9118552"
      },
      "outputs": [
        {
          "output_type": "stream",
          "name": "stdout",
          "text": [
            "f7vV0E8C?;%@B<6\n",
            "oFPaAN{?1c#)m[%\n",
            "Iq_cR5p8oze<Z0}\n",
            "wv]0Q[*_^ris?7@\n",
            ">9@6q-RHF*0:ryG\n",
            "%_9&zAo0E}O5nBN\n",
            "p<]iZgj;q0yXufz\n",
            "^rxS{1}qg6s/RXF\n",
            "AQ9;FwZp2jc-YP?\n",
            "aZ*%:W6D0U<c(yf\n"
          ]
        }
      ],
      "source": [
        "uppercase_letters = \"ABCDEFGHIJKLMNOPQRSTUVWXYZ\"\n",
        "lowercase_letters = uppercase_letters.lower()\n",
        "digits = \"0123456789\"\n",
        "symbols = \"(){}[]<>:;_-!@#$%^&*?/<>\"\n",
        "\n",
        "upper, lower, nums, syms = True , True, True, True\n",
        "\n",
        "all = \"\"\n",
        "\n",
        "if upper:\n",
        "    all += uppercase_letters\n",
        "if lower:\n",
        "    all += lowercase_letters\n",
        "if nums:\n",
        "    all += digits\n",
        "if syms:\n",
        "    all += symbols\n",
        "\n",
        "length = 15\n",
        "amount = 10\n",
        "\n",
        "\n",
        "for x in range(amount):\n",
        "    password = \"\"\n",
        "    for x in range(length):\n",
        "        password = \"\".join(random.sample(all,length))\n",
        "    print(password)"
      ]
    },
    {
      "cell_type": "code",
      "source": [],
      "metadata": {
        "id": "Jml5F9zeBCjZ"
      },
      "execution_count": null,
      "outputs": []
    }
  ]
}