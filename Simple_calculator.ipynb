{
  "nbformat": 4,
  "nbformat_minor": 0,
  "metadata": {
    "colab": {
      "provenance": [],
      "authorship_tag": "ABX9TyPkhSLMDbBwYGfu9wey3425"
    },
    "kernelspec": {
      "name": "python3",
      "display_name": "Python 3"
    },
    "language_info": {
      "name": "python"
    }
  },
  "cells": [
    {
      "cell_type": "code",
      "execution_count": 9,
      "metadata": {
        "colab": {
          "base_uri": "https://localhost:8080/"
        },
        "id": "W4USIbyxHRL2",
        "outputId": "ebb6b605-06c1-4cc2-d01d-6287b0daa5c4"
      },
      "outputs": [
        {
          "output_type": "stream",
          "name": "stdout",
          "text": [
            "Select an operation:\n",
            "1:Addition\n",
            "2:Subtraction\n",
            "3:Multiplication\n",
            "4:Division\n",
            "3\n",
            "Enter the first number: 63\n",
            "Enter the second number: 33\n",
            "The result is:2079\n"
          ]
        }
      ],
      "source": [
        "print(\"Select an operation:\")\n",
        "print(\"1:Addition\")\n",
        "print(\"2:Subtraction\")\n",
        "print(\"3:Multiplication\")\n",
        "print(\"4:Division\")\n",
        "operation = input()\n",
        "if operation == \"1\":\n",
        "    number_1 = int(input(\"Enter the first number: \"))\n",
        "    number_2 = int(input(\"Enter the second number: \"))\n",
        "    print(\"The result is:\" + str(int(number_1) + int(number_2)))\n",
        "elif operation == \"2\":\n",
        "    number_1 = int(input(\"Enter the first number: \"))\n",
        "    number_2 = int(input(\"Enter the second number: \"))\n",
        "    print(\"The result is:\" + str(int(number_1) - int(number_2)))\n",
        "elif operation == \"3\":\n",
        "    number_1 = int(input(\"Enter the first number: \"))\n",
        "    number_2 = int(input(\"Enter the second number: \"))\n",
        "    print(\"The result is:\" + str(int(number_1) * int(number_2)))\n",
        "elif operation == \"4\":\n",
        "    number_1 = int(input(\"Enter the first number: \"))\n",
        "    number_2 = int(input(\"Enter the second number: \"))\n",
        "    print(\"The result is:\" + str(int(number_1) / int(number_2)))\n",
        "else:\n",
        "  print(\"Invalid operation selected\")\n",
        "\n",
        "\n"
      ]
    },
    {
      "cell_type": "code",
      "source": [],
      "metadata": {
        "id": "vXE5M4msLM1f"
      },
      "execution_count": null,
      "outputs": []
    }
  ]
}