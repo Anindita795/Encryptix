{
  "nbformat": 4,
  "nbformat_minor": 0,
  "metadata": {
    "colab": {
      "provenance": [],
      "authorship_tag": "ABX9TyPrZGueGPUvkjV/NNTQoNcW"
    },
    "kernelspec": {
      "name": "python3",
      "display_name": "Python 3"
    },
    "language_info": {
      "name": "python"
    }
  },
  "cells": [
    {
      "cell_type": "code",
      "source": [
        "from random import randint\n",
        "\n",
        "a = [\"Rock\", \"Paper\", \"Scissors\"]\n",
        "\n",
        "computer = a[randint(0,2)]\n",
        "player = False\n",
        "\n",
        "while player == False:\n",
        "    player = input(\"Rock, Paper, Scissors?\")\n",
        "    if player == computer:\n",
        "      print (\"Tie\")\n",
        "    elif player == \"Rock\":\n",
        "      if computer == \"Paper\":\n",
        "        print (\"You lose!\", computer, \"masks\", player)\n",
        "      else:\n",
        "        print (\"You win!\", player, \"breaks\", computer)\n",
        "\n",
        "    elif player == \"Paper\":\n",
        "      if computer == \"Scissors\":\n",
        "        print (\"You lose!\", computer, \"cuts\", player)\n",
        "      else:\n",
        "        print (\"You win!\", player, \"masks\", computer)\n",
        "\n",
        "    elif player == \"Scissors\":\n",
        "      if computer == \"Rock\":\n",
        "        print (\"You lose!\", computer, \"breaks\", player)\n",
        "      else:\n",
        "        print (\"You win!\", player, \"cuts\", computer)"
      ],
      "metadata": {
        "colab": {
          "base_uri": "https://localhost:8080/"
        },
        "id": "Z5GE3rpBQ1Je",
        "outputId": "f09b7725-b7fb-4f0b-9603-8f5c436ef03c"
      },
      "execution_count": 7,
      "outputs": [
        {
          "output_type": "stream",
          "name": "stdout",
          "text": [
            "Rock, Paper, Scissors?Rock\n",
            "You win! Rock breaks Scissors\n"
          ]
        }
      ]
    }
  ]
}