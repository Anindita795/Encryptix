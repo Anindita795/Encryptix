{
  "nbformat": 4,
  "nbformat_minor": 0,
  "metadata": {
    "colab": {
      "provenance": [],
      "authorship_tag": "ABX9TyMTd385eIO2qmo1NB5hYYXm"
    },
    "kernelspec": {
      "name": "python3",
      "display_name": "Python 3"
    },
    "language_info": {
      "name": "python"
    }
  },
  "cells": [
    {
      "cell_type": "code",
      "execution_count": null,
      "metadata": {
        "colab": {
          "base_uri": "https://localhost:8080/"
        },
        "id": "NaLS9fHMKNE8",
        "outputId": "c46edbc2-c4a7-475d-db8b-e3a3099bc5c9"
      },
      "outputs": [
        {
          "output_type": "stream",
          "name": "stdout",
          "text": [
            "\n",
            "===== To-Do List =====\n",
            "1) Show Tasks \n",
            " 2) Add Tasks \n",
            " 3) Update Tasks \n",
            " 4) Delete Tasks \n",
            " 5) Save and Exit\n",
            "Enter your choice (1-5): 1\n",
            "No tasks are found.\n",
            "\n",
            "===== To-Do List =====\n",
            "1) Show Tasks \n",
            " 2) Add Tasks \n",
            " 3) Update Tasks \n",
            " 4) Delete Tasks \n",
            " 5) Save and Exit\n"
          ]
        }
      ],
      "source": [
        "import os\n",
        "\n",
        "def show_tasks(tasks):\n",
        "    if not tasks:\n",
        "        print(\"No tasks are found.\")\n",
        "    else:\n",
        "        for i, task in enumerate(tasks, 1):\n",
        "            print(f\"{i}. {task}\")\n",
        "\n",
        "def add_task(tasks, new_task):\n",
        "    tasks.append(new_task)\n",
        "    print(\"Task is Added Successfully.\")\n",
        "\n",
        "def update_task(tasks, index, updated_task):\n",
        "    if 1 <= index <= len(tasks):\n",
        "        tasks[index - 1] = updated_task\n",
        "        print(\"Task is Updated Successfully\")\n",
        "    else:\n",
        "        print(\"Task index is invalid.\")\n",
        "\n",
        "def delete_task(tasks, index):\n",
        "    if 1 <= index <= len(tasks):\n",
        "        deleted_task = tasks.pop(index - 1)\n",
        "        print(f\"Task '{deleted_task}' is deleted Successfully\")\n",
        "    else:\n",
        "        print(\"Task index is invalid.\")\n",
        "\n",
        "def save_task_to_file(file_path, tasks):\n",
        "    with open(file_path, \"w\") as file:\n",
        "        for task in tasks:\n",
        "            file.write(f\"{task}\\n\")\n",
        "\n",
        "def load_tasks_from_file(file_path):\n",
        "    tasks = []\n",
        "    if os.path.exists(file_path):\n",
        "        with open(file_path, \"r\") as file:\n",
        "            tasks = file.read().splitlines()\n",
        "    return tasks\n",
        "\n",
        "def main():\n",
        "    file_path = \"todo_list.txt\"\n",
        "    tasks = load_tasks_from_file(file_path)\n",
        "    while True:\n",
        "        print(\"\\n===== To-Do List =====\")\n",
        "        print(\"1) Show Tasks \\n 2) Add Tasks \\n 3) Update Tasks \\n 4) Delete Tasks \\n 5) Save and Exit\")\n",
        "        choice = input(\"Enter your choice (1-5): \")\n",
        "        if choice == \"1\":\n",
        "            show_tasks(tasks)\n",
        "        elif choice == \"2\":\n",
        "            new_task = input(\"Enter the task to add: \")\n",
        "            add_task(tasks, new_task)\n",
        "        elif choice == \"3\":\n",
        "            index = int(input(\"Enter the task index to update: \"))\n",
        "            updated_task = input(\"Enter the updated task: \")\n",
        "            update_task(tasks, index, updated_task)\n",
        "        elif choice == \"4\":\n",
        "            index = int(input(\"Enter the task index to delete: \"))\n",
        "            delete_task(tasks, index)\n",
        "        elif choice == \"5\":\n",
        "            save_task_to_file(file_path, tasks)\n",
        "            print(\"Tasks saved. Exiting..\")\n",
        "            break\n",
        "        else:\n",
        "            print(\"Invalid choice. Please try again.\")\n",
        "\n",
        "if __name__ == \"__main__\":\n",
        "    main()"
      ]
    }
  ]
}